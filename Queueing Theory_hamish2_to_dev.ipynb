{
 "cells": [
  {
   "cell_type": "markdown",
   "metadata": {},
   "source": [
    "\n",
    "## OR Study Group: Queueing Theory\n",
    "\n",
    "### Collaborators: \n",
    "* Clare Essex\n",
    "* Hamish MacGregor\n",
    "* Rudi Narendran\n",
    "* Jonathan Teagles\n",
    "* Emma Tearse\n",
    "\n",
    "This notebook is designed to run simple queueing theory models using python via mybinder.org\n",
    "\n",
    "\n",
    "\n",
    "The notebook is structured in XX parts:\n",
    "* [Set Up](#setup)\n",
    "* [Theory](#theory1)\n",
    "* [Simple Queues - M/M/1](#simple)\n",
    "    * [Case Study 1: XX](#casestudy1)\n",
    "* [Understanding $\\lambda$, $\\alpha$ and other variables](#theory2)\n",
    "* [Complex Queues - M/M/$\\infty$](#complex)\n",
    "    * [Case Study 2: XX](#casestudy2)"
   ]
  },
  {
   "cell_type": "markdown",
   "metadata": {},
   "source": [
    "## Set Up <a class = \"anchor\" id = \"setup\"></a>"
   ]
  },
  {
   "cell_type": "markdown",
   "metadata": {},
   "source": [
    "We need to install some packages to run this notebook:\n",
    "* **pandas** - this is a package for *shaping* data\n",
    "* **numpy** - this is a package with helpful functions for *numerical transformations*\n",
    "* **matplotlib** - this is a package for *visualisiations*\n",
    "\n",
    "There are installed using the command **pip install 'package'** and then *imported* into your notebook using **import 'package'**, we can give the package a shortened name as we will need to call it a lot later.\n",
    "\n",
    "*Note: pip should be run from the command line, to run a shell command from within a notebook cell, you must put a ! in from of the command*\n",
    "\n",
    "So let's do this for the above packages:"
   ]
  },
  {
   "cell_type": "code",
   "execution_count": null,
   "metadata": {},
   "outputs": [],
   "source": [
    "!pip install pandas\n",
    "import pandas as pd"
   ]
  },
  {
   "cell_type": "code",
   "execution_count": null,
   "metadata": {},
   "outputs": [],
   "source": [
    "!pip  install numpy\n",
    "import numpy as np"
   ]
  },
  {
   "cell_type": "code",
   "execution_count": null,
   "metadata": {},
   "outputs": [],
   "source": [
    "!pip install matplotlib\n",
    "import matplotlib.pyplot as plt"
   ]
  },
  {
   "cell_type": "code",
   "execution_count": 1,
   "metadata": {},
   "outputs": [
    {
     "name": "stdout",
     "output_type": "stream",
     "text": [
      "Collecting ciw\n",
      "\u001b[?25l  Downloading https://files.pythonhosted.org/packages/62/a1/0f0a5cb659311363ec613f5db49c0dfda8cd9617afe2fcf5851a4cbcf76c/Ciw-2.1.1.tar.gz (84kB)\n",
      "\u001b[K     |████████████████████████████████| 92kB 342kB/s eta 0:00:011\n",
      "\u001b[?25hRequirement already satisfied: PyYAML>=5.1 in /opt/anaconda3/lib/python3.7/site-packages (from ciw) (5.1.1)\n",
      "Requirement already satisfied: networkx>=2.3 in /opt/anaconda3/lib/python3.7/site-packages (from ciw) (2.3)\n",
      "Collecting tqdm==4.14.0 (from ciw)\n",
      "\u001b[?25l  Downloading https://files.pythonhosted.org/packages/dc/2c/3331cecd0dbbb3613842e70d78d04967f3f695bd89e9967bd046055fdbf0/tqdm-4.14.0-py2.py3-none-any.whl (46kB)\n",
      "\u001b[K     |████████████████████████████████| 51kB 1.2MB/s eta 0:00:011\n",
      "\u001b[?25hRequirement already satisfied: decorator>=4.3.0 in /opt/anaconda3/lib/python3.7/site-packages (from networkx>=2.3->ciw) (4.4.0)\n",
      "Building wheels for collected packages: ciw\n",
      "  Building wheel for ciw (setup.py) ... \u001b[?25ldone\n",
      "\u001b[?25h  Stored in directory: /home/CBAS/narendranr/.cache/pip/wheels/80/34/7d/1807086df29067afb0c95db303e72cd68731212de1be0a6b28\n",
      "Successfully built ciw\n",
      "Installing collected packages: tqdm, ciw\n",
      "  Found existing installation: tqdm 4.32.1\n",
      "    Uninstalling tqdm-4.32.1:\n",
      "\u001b[31mERROR: Could not install packages due to an EnvironmentError: [Errno 13] Permission denied: '/opt/anaconda3/bin/tqdm'\n",
      "Consider using the `--user` option or check the permissions.\n",
      "\u001b[0m\n"
     ]
    },
    {
     "ename": "ModuleNotFoundError",
     "evalue": "No module named 'ciw'",
     "output_type": "error",
     "traceback": [
      "\u001b[0;31m---------------------------------------------------------------------------\u001b[0m",
      "\u001b[0;31mModuleNotFoundError\u001b[0m                       Traceback (most recent call last)",
      "\u001b[0;32m<ipython-input-1-36b6b17272d7>\u001b[0m in \u001b[0;36m<module>\u001b[0;34m\u001b[0m\n\u001b[1;32m      1\u001b[0m \u001b[0mget_ipython\u001b[0m\u001b[0;34m(\u001b[0m\u001b[0;34m)\u001b[0m\u001b[0;34m.\u001b[0m\u001b[0msystem\u001b[0m\u001b[0;34m(\u001b[0m\u001b[0;34m'pip install ciw'\u001b[0m\u001b[0;34m)\u001b[0m\u001b[0;34m\u001b[0m\u001b[0;34m\u001b[0m\u001b[0m\n\u001b[0;32m----> 2\u001b[0;31m \u001b[0;32mimport\u001b[0m \u001b[0mciw\u001b[0m\u001b[0;34m\u001b[0m\u001b[0;34m\u001b[0m\u001b[0m\n\u001b[0m",
      "\u001b[0;31mModuleNotFoundError\u001b[0m: No module named 'ciw'"
     ]
    }
   ],
   "source": [
    "!pip install ciw\n",
    "import ciw"
   ]
  },
  {
   "cell_type": "markdown",
   "metadata": {},
   "source": [
    "## Theory <a class = \"anchor\" id = \"theory1\"></a>"
   ]
  },
  {
   "cell_type": "code",
   "execution_count": null,
   "metadata": {},
   "outputs": [],
   "source": []
  },
  {
   "cell_type": "markdown",
   "metadata": {},
   "source": [
    "## Simple Queues - M/M/1  <a class = \"anchor\" id = \"simple\"></a>"
   ]
  },
  {
   "cell_type": "markdown",
   "metadata": {},
   "source": [
    "Here we will use the *ciw* package to build a simple M/M/1 queue, such as a queue at a supermarket checkout.\n",
    "First, we create the _network_ '_N_', which defines the structure of the queueing system.\n",
    "Functions preceded by _ciw._ are built into the *ciw* package."
   ]
  },
  {
   "cell_type": "code",
   "execution_count": null,
   "metadata": {},
   "outputs": [],
   "source": [
    "ciw.seed(1) # defines a random seed, ensuring the results are the same on each run\n",
    "\n",
    "N = ciw.create_network(\n",
    "    arrival_distributions = [ciw.dists.Exponential(0.2)],\n",
    "    service_distributions = [ciw.dists.Exponential(0.25)],\n",
    "    number_of_servers = [1])"
   ]
  },
  {
   "cell_type": "markdown",
   "metadata": {},
   "source": [
    "This network has three attributes:\n",
    "* The **arrival distribution**, which we have set to be exponential (Poisson process) with a mean arrival rate $\\lambda$ of 0.2 customers per minute (1 every 5 minutes)\n",
    "* The **service distribution**, which we have also set to be exponential with a mean arrival rate $\\mu$ of 0.25 customers per minute (1 every 4 minutes). Since $\\lambda < \\mu$, the queue should be stable and not grow indefinitely.\n",
    "* The **number of servers**, which in this case is 1.\n",
    "\n",
    "We can now simulate the queue by creating and running a *Simulation* object, *Q*:"
   ]
  },
  {
   "cell_type": "code",
   "execution_count": null,
   "metadata": {},
   "outputs": [],
   "source": [
    "Q = ciw.Simulation(N) # a Simulation object for our network N\n",
    "\n",
    "Q.simulate_until_max_time(1440) # run the simulation Q for 1440 minutes (one day)"
   ]
  },
  {
   "cell_type": "markdown",
   "metadata": {},
   "source": [
    "The *ciw* package automatically records useful statistics about the simulation. For instance, we can obtain the average time spent waiting in the queue, or the average time to be served:"
   ]
  },
  {
   "cell_type": "code",
   "execution_count": null,
   "metadata": {},
   "outputs": [],
   "source": [
    "recs = Q.get_all_records() # extracts all individual records into the list 'recs'\n",
    "\n",
    "wait_times = [r.waiting_time for r in recs] # loops through 'recs' extracting waiting times\n",
    "service_times = [r.service_time for r in recs] # likewise for service times"
   ]
  },
  {
   "cell_type": "markdown",
   "metadata": {},
   "source": [
    "We can now easily extract the mean waiting time and service time using np.mean():"
   ]
  },
  {
   "cell_type": "code",
   "execution_count": null,
   "metadata": {},
   "outputs": [],
   "source": [
    "np.mean(service_times)"
   ]
  },
  {
   "cell_type": "code",
   "execution_count": null,
   "metadata": {},
   "outputs": [],
   "source": [
    "np.mean(wait_times)"
   ]
  },
  {
   "cell_type": "markdown",
   "metadata": {},
   "source": [
    "*[Hamish] Idea for an interactive element: get everyone to set a different random seed, then we can use everyone's results to get average values for the waiting times etc*"
   ]
  },
  {
   "cell_type": "markdown",
   "metadata": {},
   "source": [
    "## Case Study 1 <a class = \"anchor\" id = \"casestudy1\"></a>"
   ]
  },
  {
   "cell_type": "code",
   "execution_count": null,
   "metadata": {},
   "outputs": [],
   "source": []
  },
  {
   "cell_type": "markdown",
   "metadata": {},
   "source": [
    "## Understanding Variables <a class = \"anchor\" id = \"theory2\"></a>"
   ]
  },
  {
   "cell_type": "code",
   "execution_count": null,
   "metadata": {},
   "outputs": [],
   "source": []
  },
  {
   "cell_type": "markdown",
   "metadata": {},
   "source": [
    "## Complex Queues - M/M/$\\infty$ <a class = \"anchor\" id = \"complex\"></a>"
   ]
  },
  {
   "cell_type": "code",
   "execution_count": null,
   "metadata": {},
   "outputs": [],
   "source": []
  },
  {
   "cell_type": "markdown",
   "metadata": {},
   "source": [
    "## Case Study 2 <a class = \"anchor\" id = \"casestudy2\"></a>"
   ]
  },
  {
   "cell_type": "code",
   "execution_count": null,
   "metadata": {},
   "outputs": [],
   "source": []
  }
 ],
 "metadata": {
  "kernelspec": {
   "display_name": "Python 3",
   "language": "python",
   "name": "python3"
  },
  "language_info": {
   "codemirror_mode": {
    "name": "ipython",
    "version": 3
   },
   "file_extension": ".py",
   "mimetype": "text/x-python",
   "name": "python",
   "nbconvert_exporter": "python",
   "pygments_lexer": "ipython3",
   "version": "3.7.3"
  }
 },
 "nbformat": 4,
 "nbformat_minor": 2
}
